{
 "cells": [
  {
   "cell_type": "markdown",
   "metadata": {},
   "source": [
    "# Un tout petit notebook de test"
   ]
  },
  {
   "cell_type": "code",
   "execution_count": null,
   "metadata": {},
   "outputs": [],
   "source": [
    "def syracuse(n):\n",
    "    suite = n\n",
    "    yield suite\n",
    "    while suite != 1:\n",
    "        if suite % 2 == 0:\n",
    "            suite = suite // 2\n",
    "        else:\n",
    "            suite = 3*suite + 1\n",
    "        yield suite"
   ]
  },
  {
   "cell_type": "code",
   "execution_count": null,
   "metadata": {},
   "outputs": [],
   "source": [
    "for n in range(20, 31):\n",
    "    for i in syracuse(n):\n",
    "        print(i, end=' ')\n",
    "    print(\"\\n---\")"
   ]
  },
  {
   "cell_type": "markdown",
   "metadata": {},
   "source": [
    "## le format ipynb"
   ]
  },
  {
   "cell_type": "markdown",
   "metadata": {},
   "source": [
    "remarquez que ce notebook se sauve dans un fichier `.ipynb`\n",
    "\n",
    "regardez le contenu de ce fichier (avec `cat`); est-ce que c'est facile à lire ?\n",
    "\n",
    "par contre avec ce format on peut conserver les calculs qui ont été faits; comparez la taille du `.ipynb` selon que votre notebook est propre (utilisez *`Cell -> All Output -> Clear`*) ou plein de calculs (*`Cell -> Run All`*)"
   ]
  }
 ],
 "metadata": {
  "jupytext": {
   "cell_metadata_filter": "all",
   "notebook_metadata_filter": "all,-language_info"
  },
  "kernelspec": {
   "display_name": "Python 3 (ipykernel)",
   "language": "python",
   "name": "python3"
  },
  "language_info": {
   "codemirror_mode": {
    "name": "ipython",
    "version": 3
   },
   "file_extension": ".py",
   "mimetype": "text/x-python",
   "name": "python",
   "nbconvert_exporter": "python",
   "pygments_lexer": "ipython3",
   "version": "3.9.12"
  },
  "toc": {
   "base_numbering": 1,
   "nav_menu": {},
   "number_sections": false,
   "sideBar": true,
   "skip_h1_title": false,
   "title_cell": "Table of Contents",
   "title_sidebar": "Contents",
   "toc_cell": false,
   "toc_position": {},
   "toc_section_display": true,
   "toc_window_display": true
  }
 },
 "nbformat": 4,
 "nbformat_minor": 2
}
