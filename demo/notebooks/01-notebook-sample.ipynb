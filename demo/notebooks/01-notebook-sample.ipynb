{
 "cells": [
  {
   "cell_type": "markdown",
   "metadata": {},
   "source": [
    "# Un tout petit notebook de test"
   ]
  },
  {
   "cell_type": "code",
   "execution_count": null,
   "metadata": {},
   "outputs": [],
   "source": [
    "def syracuse(n):\n",
    "    suite = n\n",
    "    yield suite\n",
    "    while suite != 1:\n",
    "        if suite % 2 == 0:\n",
    "            suite = suite // 2\n",
    "        else:\n",
    "            suite = 3*suite + 1\n",
    "        yield suite"
   ]
  },
  {
   "cell_type": "code",
   "execution_count": null,
   "metadata": {},
   "outputs": [],
   "source": [
    "for n in range(20, 31):\n",
    "    print(f\"--- Syracuse for {n=}\")\n",
    "    for i in syracuse(n):\n",
    "        print(i, end=' ')\n",
    "    print()\n"
   ]
  },
  {
   "cell_type": "markdown",
   "metadata": {},
   "source": [
    "## le format ipynb"
   ]
  },
  {
   "cell_type": "markdown",
   "metadata": {},
   "source": [
    "exercices:\n",
    "\n",
    "* exécutez le notebook dans jupyter en partant de la première cellule et en faisant *Shift Enter*\n",
    "\n",
    "* remarquez que ce notebook se sauve dans un fichier `.ipynb`  \n",
    "  regardez le contenu de ce fichier -- avec *vs-code*, ou dans le terminal avec `cat`  \n",
    "  est-ce que c'est facile à lire ?\n",
    "\n",
    "* par contre avec ce format on peut conserver les calculs qui ont été faits  \n",
    "  comparez la taille du `.ipynb` selon que votre notebook est propre ou plein de calculs;  \n",
    "  c'est à dire en pratique\n",
    "  * utilisez *`Edit -> Clear outputs of all cells`*, sauvez, regardez la taille du fichier\n",
    "  * maintenant faites *`Run -> Run all cells`*, sauvez, regardez la taille du fichier, comparez...\n"
   ]
  }
 ],
 "metadata": {
  "jupytext": {
   "cell_metadata_filter": "all",
   "notebook_metadata_filter": "all,-language_info"
  },
  "kernelspec": {
   "display_name": "Python 3 (ipykernel)",
   "language": "python",
   "name": "python3"
  },
  "language_info": {
   "codemirror_mode": {
    "name": "ipython",
    "version": 3
   },
   "file_extension": ".py",
   "mimetype": "text/x-python",
   "name": "python",
   "nbconvert_exporter": "python",
   "pygments_lexer": "ipython3",
   "version": "3.11.4"
  },
  "toc": {
   "base_numbering": 1,
   "nav_menu": {},
   "number_sections": false,
   "sideBar": true,
   "skip_h1_title": false,
   "title_cell": "Table of Contents",
   "title_sidebar": "Contents",
   "toc_cell": false,
   "toc_position": {},
   "toc_section_display": true,
   "toc_window_display": true
  }
 },
 "nbformat": 4,
 "nbformat_minor": 4
}
